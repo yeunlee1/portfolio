{
  "nbformat": 4,
  "nbformat_minor": 0,
  "metadata": {
    "colab": {
      "provenance": [],
      "collapsed_sections": [
        "tdgnh1zID-Sm",
        "ULryWDcfEQ1u",
        "Y4q3ThJEFtDC"
      ],
      "authorship_tag": "ABX9TyNIjhHFsiBMeZbz3XUdxZvr",
      "include_colab_link": true
    },
    "kernelspec": {
      "name": "python3",
      "display_name": "Python 3"
    },
    "language_info": {
      "name": "python"
    }
  },
  "cells": [
    {
      "cell_type": "markdown",
      "metadata": {
        "id": "view-in-github",
        "colab_type": "text"
      },
      "source": [
        "<a href=\"https://colab.research.google.com/github/yeunlee1/portfolio/blob/main/%ED%8C%8C%EC%9D%B4%EC%8D%AC_%EA%B8%B0%EC%B4%88.ipynb\" target=\"_parent\"><img src=\"https://colab.research.google.com/assets/colab-badge.svg\" alt=\"Open In Colab\"/></a>"
      ]
    },
    {
      "cell_type": "markdown",
      "source": [
        "### 변수\n"
      ],
      "metadata": {
        "id": "tdgnh1zID-Sm"
      }
    },
    {
      "cell_type": "code",
      "execution_count": null,
      "metadata": {
        "id": "KomN5p7xddzE"
      },
      "outputs": [],
      "source": [
        "name = \"이연\"\n",
        "age = 37"
      ]
    },
    {
      "cell_type": "markdown",
      "source": [],
      "metadata": {
        "id": "km0y8GQmd_3o"
      }
    },
    {
      "cell_type": "code",
      "source": [
        "print(\n",
        "    \"안녕하세요 {} 님! 올해 나이는 {} 세 입니다\".format(name, age)\n",
        ")"
      ],
      "metadata": {
        "colab": {
          "base_uri": "https://localhost:8080/"
        },
        "id": "xAs920E_eHjp",
        "outputId": "406df20d-c61e-40e2-dc81-f9a1fe15a0aa"
      },
      "execution_count": null,
      "outputs": [
        {
          "output_type": "stream",
          "name": "stdout",
          "text": [
            "안녕하세요 이연 님! 올해 나이는 37 세 입니다\n"
          ]
        }
      ]
    },
    {
      "cell_type": "code",
      "source": [
        "player_id = \"캡틴 코리아\"\n",
        "player_level = 10\n",
        "player_exp = 5000\n",
        "\n",
        "# 새로운 경험치 추가\n",
        "new_exp = 1000\n",
        "player_exp += new_exp\n",
        "\n",
        "\n",
        "print(\n",
        "    \"전투가 {}님, 레벨 : {} / 총 경험치 : {}\".format(player_id,player_level, player_exp)\n",
        ")"
      ],
      "metadata": {
        "colab": {
          "base_uri": "https://localhost:8080/"
        },
        "id": "p__JN0sZDPMv",
        "outputId": "1b903d32-0077-4bb2-99e0-84ecfea2276d"
      },
      "execution_count": null,
      "outputs": [
        {
          "output_type": "stream",
          "name": "stdout",
          "text": [
            "전투가 캡틴 코리아님, 레벨 : 10 / 총 경험치 : 6000\n"
          ]
        }
      ]
    },
    {
      "cell_type": "markdown",
      "source": [
        "### 자료구조"
      ],
      "metadata": {
        "id": "ULryWDcfEQ1u"
      }
    },
    {
      "cell_type": "code",
      "source": [
        "fruits = ['사과', '골드키위', '토마토']\n",
        "print(\n",
        "    fruits\n",
        ")"
      ],
      "metadata": {
        "colab": {
          "base_uri": "https://localhost:8080/"
        },
        "id": "xF3772ELEU7F",
        "outputId": "6d9d0c28-69b4-4b95-c122-88b30d7e6478"
      },
      "execution_count": null,
      "outputs": [
        {
          "output_type": "stream",
          "name": "stdout",
          "text": [
            "['사과', '골드키위', '토마토']\n"
          ]
        }
      ]
    },
    {
      "cell_type": "code",
      "source": [
        "#딕셔너리\n",
        "student = {\n",
        "    \"이름\" : \"이연\",\n",
        "    \"학년\" : 15,\n",
        "    \"과목\" : [\"수학\", \"과학\", \"역사\"]\n",
        "}\n",
        "\n",
        "print(student['이름'])"
      ],
      "metadata": {
        "colab": {
          "base_uri": "https://localhost:8080/"
        },
        "id": "D5wzIE1JE6Ov",
        "outputId": "b6f91523-f54a-4131-c98d-8b3f30083cfb"
      },
      "execution_count": null,
      "outputs": [
        {
          "output_type": "stream",
          "name": "stdout",
          "text": [
            "이연\n"
          ]
        }
      ]
    },
    {
      "cell_type": "markdown",
      "source": [
        "### 제어문"
      ],
      "metadata": {
        "id": "Y4q3ThJEFtDC"
      }
    },
    {
      "cell_type": "code",
      "source": [
        "age = 28\n",
        "if age >= 18 :\n",
        "  print(\"성인\")\n",
        "else :\n",
        "    print(\"미성년자\")"
      ],
      "metadata": {
        "colab": {
          "base_uri": "https://localhost:8080/"
        },
        "id": "bJx8DDZVFuno",
        "outputId": "42a9a01f-8196-4301-cefd-93ee572960aa"
      },
      "execution_count": null,
      "outputs": [
        {
          "output_type": "stream",
          "name": "stdout",
          "text": [
            "성인\n"
          ]
        }
      ]
    },
    {
      "cell_type": "code",
      "source": [
        "for i in range(2,5) :\n",
        "  for j in range(1,10) :\n",
        "    print(i, \"x\", j, \"=\", i*j)\n",
        "\n",
        "  print()"
      ],
      "metadata": {
        "colab": {
          "base_uri": "https://localhost:8080/"
        },
        "id": "GyGWf1D0GOHo",
        "outputId": "6b887d6b-9f2d-4509-db61-8e535e81ee3c"
      },
      "execution_count": null,
      "outputs": [
        {
          "output_type": "stream",
          "name": "stdout",
          "text": [
            "2 x 1 = 2\n",
            "2 x 2 = 4\n",
            "2 x 3 = 6\n",
            "2 x 4 = 8\n",
            "2 x 5 = 10\n",
            "2 x 6 = 12\n",
            "2 x 7 = 14\n",
            "2 x 8 = 16\n",
            "2 x 9 = 18\n",
            "\n",
            "3 x 1 = 3\n",
            "3 x 2 = 6\n",
            "3 x 3 = 9\n",
            "3 x 4 = 12\n",
            "3 x 5 = 15\n",
            "3 x 6 = 18\n",
            "3 x 7 = 21\n",
            "3 x 8 = 24\n",
            "3 x 9 = 27\n",
            "\n",
            "4 x 1 = 4\n",
            "4 x 2 = 8\n",
            "4 x 3 = 12\n",
            "4 x 4 = 16\n",
            "4 x 5 = 20\n",
            "4 x 6 = 24\n",
            "4 x 7 = 28\n",
            "4 x 8 = 32\n",
            "4 x 9 = 36\n",
            "\n"
          ]
        }
      ]
    },
    {
      "cell_type": "markdown",
      "source": [
        "### 연산자"
      ],
      "metadata": {
        "id": "XTKl6w53G00a"
      }
    },
    {
      "cell_type": "code",
      "source": [
        "a = 10\n",
        "b = 5\n",
        "\n",
        "add = a+b\n",
        "sub = a-b\n",
        "mul = a*b\n",
        "div = a/b"
      ],
      "metadata": {
        "id": "-jWEZ0DCG7dc"
      },
      "execution_count": null,
      "outputs": []
    },
    {
      "cell_type": "code",
      "source": [
        "sub"
      ],
      "metadata": {
        "colab": {
          "base_uri": "https://localhost:8080/"
        },
        "id": "D75O9SQ3HDp3",
        "outputId": "3ab43323-8a0a-48cb-8f66-b64c8f8804f9"
      },
      "execution_count": null,
      "outputs": [
        {
          "output_type": "execute_result",
          "data": {
            "text/plain": [
              "5"
            ]
          },
          "metadata": {},
          "execution_count": 15
        }
      ]
    },
    {
      "cell_type": "code",
      "source": [
        "x = True\n",
        "y = False\n",
        "\n",
        "result_and = x and y\n",
        "result_or = x or y\n",
        "result_not = not x\n",
        "\n",
        "print(result_not)"
      ],
      "metadata": {
        "colab": {
          "base_uri": "https://localhost:8080/"
        },
        "id": "0ofZ7EtRHZUv",
        "outputId": "f56183e1-5f45-48e9-dee6-cdcb08de39cb"
      },
      "execution_count": null,
      "outputs": [
        {
          "output_type": "stream",
          "name": "stdout",
          "text": [
            "False\n"
          ]
        }
      ]
    },
    {
      "cell_type": "code",
      "source": [
        "is_sunny = True\n",
        "is_warm = True\n",
        "\n",
        "if is_sunny and is_warm :\n",
        "  print(\"날씨가 좋아요\")\n",
        "else :\n",
        "  print(\"날씨가 좋지 않아요\")"
      ],
      "metadata": {
        "colab": {
          "base_uri": "https://localhost:8080/"
        },
        "id": "AEyjeOSXH1zO",
        "outputId": "20970637-93dd-4afb-a5d0-e2fcffdd938c"
      },
      "execution_count": null,
      "outputs": [
        {
          "output_type": "stream",
          "name": "stdout",
          "text": [
            "날씨가 좋아요\n"
          ]
        }
      ]
    },
    {
      "cell_type": "code",
      "source": [
        "def greet(name) :\n",
        "  print(\"안녕하세요 {}님! 환영합니다.\".format(name))\n",
        "\n",
        "\n",
        "greet(\"이연\")\n",
        "greet(\"이연\")\n",
        "greet(\"이연\")\n",
        "greet(\"이연\")"
      ],
      "metadata": {
        "colab": {
          "base_uri": "https://localhost:8080/"
        },
        "id": "OE7f_lT4IGR3",
        "outputId": "cc6ad9b8-ad93-4287-e453-8a400a903b73"
      },
      "execution_count": null,
      "outputs": [
        {
          "output_type": "stream",
          "name": "stdout",
          "text": [
            "안녕하세요 이연님! 환영합니다.\n",
            "안녕하세요 이연님! 환영합니다.\n",
            "안녕하세요 이연님! 환영합니다.\n",
            "안녕하세요 이연님! 환영합니다.\n"
          ]
        }
      ]
    },
    {
      "cell_type": "code",
      "source": [
        "def calculate_area(radius) :\n",
        "  pi = 3.14159265\n",
        "  area = pi * (radius ** 2)\n",
        "  return area\n",
        "\n",
        "r=10\n",
        "calculate_area_r = calculate_area(r)\n",
        "\n",
        "print(\"반지름이\", r, \"인 원의 넓이는\", calculate_area_r, \"입니다.\")"
      ],
      "metadata": {
        "colab": {
          "base_uri": "https://localhost:8080/"
        },
        "id": "0A_xPg-xIfa3",
        "outputId": "23b853e5-f26a-4df5-a3d7-1c17ada1c0da"
      },
      "execution_count": null,
      "outputs": [
        {
          "output_type": "stream",
          "name": "stdout",
          "text": [
            "반지름이 10 인 원의 넓이는 314.159265 입니다.\n"
          ]
        }
      ]
    },
    {
      "cell_type": "markdown",
      "source": [
        "###예외처리"
      ],
      "metadata": {
        "id": "i4LOwGa-JRq_"
      }
    },
    {
      "cell_type": "code",
      "source": [
        "try :\n",
        "  number = int( input (\"정수를 입력하세요 : \" ))\n",
        "  result = 10 / number\n",
        "  print(f\"결과는 {result}\")\n",
        "\n",
        "except Exception as error :\n",
        "  print(f\"오류가 발생했습니다. : {error}\")"
      ],
      "metadata": {
        "colab": {
          "base_uri": "https://localhost:8080/"
        },
        "id": "yc2AC5ZgJTzB",
        "outputId": "d3ae2218-ddd5-44a3-da04-c95f462b491c"
      },
      "execution_count": null,
      "outputs": [
        {
          "output_type": "stream",
          "name": "stdout",
          "text": [
            "정수를 입력하세요 : 1a\n",
            "오류가 발생했습니다. : invalid literal for int() with base 10: '1a'\n"
          ]
        }
      ]
    },
    {
      "cell_type": "code",
      "source": [
        "def div(x,y) :\n",
        "  try :\n",
        "    result = x / y\n",
        "  except ZeroDivisionError :\n",
        "    result = \"무한대\"\n",
        "  except Exception as e :\n",
        "    result = \"오류: \"  + str(e)\n",
        "  finally :\n",
        "    print(\"연산종료\")\n",
        "  return result\n",
        "\n",
        "\n",
        "result1 = div(10,2)\n",
        "result2 = div(10,0)\n",
        "result3 = div(10,\"apple\")"
      ],
      "metadata": {
        "colab": {
          "base_uri": "https://localhost:8080/"
        },
        "id": "aJ9mbBicumV0",
        "outputId": "5b451a31-cd14-4c9b-bf6b-21849363316c"
      },
      "execution_count": 1,
      "outputs": [
        {
          "output_type": "stream",
          "name": "stdout",
          "text": [
            "연산종료\n",
            "연산종료\n",
            "연산종료\n"
          ]
        }
      ]
    },
    {
      "cell_type": "code",
      "source": [
        "result3"
      ],
      "metadata": {
        "colab": {
          "base_uri": "https://localhost:8080/",
          "height": 36
        },
        "id": "KYm38oxdvVT-",
        "outputId": "d2b26f23-528b-4504-8d2d-a4781b754462"
      },
      "execution_count": 4,
      "outputs": [
        {
          "output_type": "execute_result",
          "data": {
            "text/plain": [
              "\"오류: unsupported operand type(s) for /: 'int' and 'str'\""
            ],
            "application/vnd.google.colaboratory.intrinsic+json": {
              "type": "string"
            }
          },
          "metadata": {},
          "execution_count": 4
        }
      ]
    },
    {
      "cell_type": "markdown",
      "source": [
        "### 모듈과 라이브러리"
      ],
      "metadata": {
        "id": "sGEe4LP2vg9A"
      }
    },
    {
      "cell_type": "code",
      "source": [
        "from datetime import datetime\n",
        "\n",
        "date = datetime.now()\n",
        "\n",
        "date.month"
      ],
      "metadata": {
        "colab": {
          "base_uri": "https://localhost:8080/"
        },
        "id": "BBDiOQ9Lvi6f",
        "outputId": "0530b6d0-69ef-42a5-e5ed-c4bd6b55b493"
      },
      "execution_count": 6,
      "outputs": [
        {
          "output_type": "execute_result",
          "data": {
            "text/plain": [
              "2"
            ]
          },
          "metadata": {},
          "execution_count": 6
        }
      ]
    },
    {
      "cell_type": "code",
      "source": [
        "import random\n",
        "\n",
        "def roll_dice() :\n",
        "  return random.randint(1,6)\n",
        "\n",
        "def play_game() :\n",
        "  user_roll = roll_dice()\n",
        "  computer_roll = roll_dice()\n",
        "\n",
        "  print(f\"당신의 주사위 : {user_roll}\")\n",
        "  print(f\"컴퓨터의 주사위 : {computer_roll}\")\n",
        "\n",
        "  if user_roll > computer_roll :\n",
        "    print(\"당신의 주사위가 더 높습니다.\")\n",
        "  elif user_roll < computer_roll :\n",
        "    print(\" 컴퓨터가 이겼습니다.\")\n",
        "  else :\n",
        "    print(\" 비겼습니다. \")"
      ],
      "metadata": {
        "id": "9QRnpEYm4teJ"
      },
      "execution_count": 10,
      "outputs": []
    },
    {
      "cell_type": "code",
      "source": [
        "play_game()"
      ],
      "metadata": {
        "colab": {
          "base_uri": "https://localhost:8080/"
        },
        "id": "TZyFJi1A5cnD",
        "outputId": "4371bb6d-a751-4049-8dbe-7f58e85dd3eb"
      },
      "execution_count": 12,
      "outputs": [
        {
          "output_type": "stream",
          "name": "stdout",
          "text": [
            "당신의 주사위 : 6\n",
            "컴퓨터의 주사위 : 3\n",
            "당신의 주사위가 더 높습니다.\n"
          ]
        }
      ]
    },
    {
      "cell_type": "markdown",
      "source": [
        "### 파이썬 통계 프로그래밍 : Numpy\n",
        "\n",
        "- Numpy는 파이썬의 수치 연산 라이브러리로 배열과 행렬 연산을 간편하게 수행할 수 있는 도구입니다.\n",
        "- Numpy를 사용하면 수학적 연산과 데이터 분석을 파이썬에서 효율적으로 처리할 수 있습니다."
      ],
      "metadata": {
        "id": "KOZohmWo950A"
      }
    },
    {
      "cell_type": "code",
      "source": [
        "#Numpy 를 이용해 배열을 생성해봅시다.\n",
        "#해당 배열의 모든 원소를 2배로 곱하는 연산을 진행합니다.\n",
        "\n",
        "import numpy as np\n",
        "\n",
        "arr = np.array([1,3,5,7,9])\n",
        "\n",
        "result = arr * 2"
      ],
      "metadata": {
        "id": "dpAoLKCt-dXJ"
      },
      "execution_count": 14,
      "outputs": []
    },
    {
      "cell_type": "code",
      "source": [
        "result"
      ],
      "metadata": {
        "colab": {
          "base_uri": "https://localhost:8080/"
        },
        "id": "xvQvTAKH-atj",
        "outputId": "4e3e1155-cce1-4432-fc24-df5677d5d3d1"
      },
      "execution_count": 15,
      "outputs": [
        {
          "output_type": "execute_result",
          "data": {
            "text/plain": [
              "array([ 2,  6, 10, 14, 18])"
            ]
          },
          "metadata": {},
          "execution_count": 15
        }
      ]
    },
    {
      "cell_type": "code",
      "source": [
        "from google.colab import drive\n",
        "\n",
        "drive.mount('/content/gdrive')"
      ],
      "metadata": {
        "colab": {
          "base_uri": "https://localhost:8080/"
        },
        "id": "WCi8aO9x-uGI",
        "outputId": "5155b1bd-5a41-4fdb-d225-ede74b9c386b"
      },
      "execution_count": 16,
      "outputs": [
        {
          "output_type": "stream",
          "name": "stdout",
          "text": [
            "Mounted at /content/gdrive\n"
          ]
        }
      ]
    },
    {
      "cell_type": "code",
      "source": [
        "#복잡한 작업\n",
        "# NumPy 는 이미지 처리도 가능합니다.\n",
        "\n",
        "import numpy as np\n",
        "import cv2\n",
        "\n",
        "image = cv2.imread('')"
      ],
      "metadata": {
        "id": "u6HvYl_4_Ikp"
      },
      "execution_count": null,
      "outputs": []
    }
  ]
}